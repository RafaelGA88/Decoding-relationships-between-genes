{
  "cells": [
    {
      "cell_type": "markdown",
      "metadata": {
        "id": "v-yGygfyyyxf"
      },
      "source": [
        "Before you turn this problem in, make sure everything runs as expected. First, **restart the kernel** (in the menubar, select Kernel$\\rightarrow$Restart) and then **run all cells** (in the menubar, select Cell$\\rightarrow$Run All).\n",
        "\n",
        "Make sure you fill in any place that says `YOUR CODE HERE` or \"YOUR ANSWER HERE\", as well as your name and collaborators below:"
      ]
    },
    {
      "cell_type": "code",
      "execution_count": null,
      "metadata": {
        "id": "F8qXDJLdyyxi"
      },
      "outputs": [],
      "source": [
        "NAME = \"Carlos Rafael Garduño Acolt\""
      ]
    },
    {
      "cell_type": "markdown",
      "metadata": {
        "id": "AUUovjp4yyxj"
      },
      "source": [
        "---"
      ]
    },
    {
      "cell_type": "markdown",
      "metadata": {
        "deletable": false,
        "editable": false,
        "nbgrader": {
          "checksum": "625ddc9f6becf2f28dda18c818f518e2",
          "grade": false,
          "grade_id": "cell-1fb3092227e4c7df",
          "locked": true,
          "schema_version": 1,
          "solution": false
        },
        "id": "c6lH4mdzyyxj"
      },
      "source": [
        "\n",
        "# CS110 Fall 2019 - Assignment 3\n",
        "# Decoding relationships between genes\n",
        "\n",
        "## Submission Materials\n",
        "Your assignment submission needs to include the following resources:\n",
        "\n",
        "1. A PDF file must be the first resource and it will include all the answers to the questions above. \n",
        "2. Name the  PDF file: `<your_ name>.pdf`. For example, if you are a student name Dumbledore, your PDF file must be named “Dumbledore.pdf”. \n",
        "3. Make sure that you submit a neat, clearly presented, and easy-to-read PDF,  \n",
        "4. Your PDF **must also** include the Python code as an appendix at the end. This will facilitate the process of writing feedback by anchoring the feedback to specific portions of the Python code using the grader tool.\n",
        "5. Your second resource must be a single Python/Jupyter Notebook with your answers written in the assignment template provided.\n",
        "    * Name this Jupyter Notebook also using the same convention as for the PDF file;  <student_name>.ipynb. For example, if you’re Dumbledore, your  Jupyter Notebook must be named “Dumbledore.ipynb”. \n",
        "\n",
        "## Notes on Grading Rubrics\n",
        "* This is a strictly individual assignment. Everything you submit must reflect your own writing both in the text and Python programming.\n",
        "* The assignment will be graded on the quality of your report, as well as: \n",
        "    * the LOs tagged in each question. \n",
        "    * the HCs **#professionalism** and **#algorithms** based on a holistic view of the assignment.\n",
        "\n",
        "Please consult the rubrics for these LOs to optimally align your approach to the rubrics.\n",
        "* As per the course’s policy on the syllabus, you will need to footnote at least **three** HCs by including a meaningful justification of the application of each HC. \n",
        "You will need to mindfully address how the HC enabled you to complete part of your work on this assignment. Please refer to refer to [these guidelines](https://docs.google.com/document/d/1s7yOVOtMIaHQdKLeRmZbq1gRqwJKfezBsfru9Q6PcHw/edit) on how to incorporate HCs in your work.\n",
        "* You will receive a warning on the first two weak applications of the HCs used in assignments since the beginning of the course. The counting system is cumulative, and these first two warnings will not generate a grade on the HC. The third and subsequent warnings will be graded on the specific HC using the HCs corresponding rubric. Please check what your HC counter is and prepare accordingly for this assignment.\n",
        "\n",
        "\n",
        "## Overview\n",
        "Gene Mutation is a prevailing and computationally intensive research topic in Genetics. For this assignment, assume that you have been hired by a biotechnology company to work on a gene mutation research project, and your first task is to write a Python program to investigate a genealogical mutation sequencing.\n",
        "\n",
        "\n",
        "In this program, a gene is described by a string of letters, with a letter being chosen from the set ${A, C, G, T}$. A mutation is relatively rare but it can occur in which there is a small probability of either inserting a new character, deleting an existing character, or changing to a new character randomly. We can refer to these probabilities by $p_i, p_d$, and $p_c$, respectively.\n",
        "\n",
        "\n",
        "Now, suppose the starting point is a given string that undergoes a mutation process. This mutation created two other strings, the child strings of the first string. Each of these two new strings can undergo mutations by which they will change from their parent. In turn, the two-child strings, mutate and create 2 new substrings each, resulting in four grandchild strings from the original gene sequencing string. We can easily visualize the sequence of mutations if we were to draw a genealogy binary tree relating strings to their parent and grandparent strings.\n",
        "\n",
        "As a result of these mutations, we now have 7 strings but unfortunately, the order of the strings has been lost due to a glitch in the gene sequencing generation program. Therefore, your first task in the project is to recover the genealogy tree for the following set of 7 strings labelled with lowercase letters:\n",
        "\n",
        "\n",
        "`('a','ACAATCCTCGCGCAGAACAACACTTTTAACGTATCCTTGATCATTTTCCGTCCTAAGTCGAATT')`,\n",
        "`('b','CATCGCAAGCCAGCCTAATGACCGATCTCGGGTGTACTAATGGATCGTATCTCCACTCTTACACTGTCGTATTG')`,\n",
        "`('c','TCCCAGGCACTGCGACAGAAACGAGAGCGGTTTTTGACGATGGCATTCATCGATTTTCCCCCCCCTACTGATACAAACAGT')`,\n",
        "`('d','AAGCGTAATGCTGGGTAGGGAGCAAACAGGTCAAGCGGACTTGTAACCATTTTTCCCACTAAGAAGTCGCATATA')`,\n",
        "`('e','GCGTCCGCAACGTTGGGCTTCAAACGTACCGAGTTTCCGATGGATTATATTGGACAGATGATCCTACCAAGTGCCTTTTCTAACAGCTCGGTAATGTC')`,\n",
        "`('f','ACAGACTGCGGAAGCGCGACGCTTGATTTCGGCAGCCCCACGGATGGTACATAACTGCTGTTACCTACGCTACCTGCTAAACACTTCCCGCTCTG')`,\n",
        "`('g','ACGAGCAGCCACAGCACACCGTTAACTATGTGATAATCCCTCATGCGATG')`\n",
        "\n",
        "Henceforth, the set of strings created with the gene-sequencing generation program will be referred to as `Set_Strings`.\n",
        "\n",
        "# Assignment Questions\n",
        "\n",
        "Each of the questions below will be graded on the CS110 LOs included inside square brackets: \n",
        "\n",
        "## Part A [#responsibility] [appropriate LO for the make-up work] \n",
        "\n",
        "Take a screenshot of your CS110 dashboard on Forum where the following is visible:\n",
        "* your name.\n",
        "* your absences for the course have been set to excused up to session 12.2 (inclusively).\n",
        "\n",
        "Submit this screenshot as a PNG file on your Python or Jupyter notebook. \n"
      ]
    },
    {
      "cell_type": "markdown",
      "metadata": {
        "deletable": false,
        "editable": false,
        "nbgrader": {
          "checksum": "437dd9f7cd5d57a730a59c7186c805b5",
          "grade": false,
          "grade_id": "cell-aa8e05a91d596cb9",
          "locked": true,
          "schema_version": 1,
          "solution": false
        },
        "id": "2F-ygeDGyyxn"
      },
      "source": [
        "## Part B. Consider `Set_Strings` to answer the following questions below:\n",
        "\n",
        "### Question 1. [#DynamicProgramming, #PythonProgramming, #CodeReadability] \n",
        "\n",
        "Write Python code which, given any two arbitrary strings, outputs the length of the Longest Common Subsequence (LCS) for those two strings. Make sure to include a number of test cases that demonstrate that your code is correct.\n"
      ]
    },
    {
      "cell_type": "code",
      "execution_count": null,
      "metadata": {
        "deletable": false,
        "nbgrader": {
          "checksum": "e5733ba5f93dc0c0c107802186f95bfc",
          "grade": false,
          "grade_id": "cell-cd0c7bc287b5b982",
          "locked": false,
          "schema_version": 1,
          "solution": true
        },
        "id": "gg18biu0yyxn"
      },
      "outputs": [],
      "source": [
        "import numpy as np\n",
        "\n",
        "#############\n",
        "\n",
        "def lcs_length(x, y):\n",
        "    \n",
        "    m = len(x) #length of first string\n",
        "    n = len(y) #length of second string\n",
        "    \n",
        "    b = [[0 for i in range(n+1)] for j in range(m+1)] #initializing tables\n",
        "    c = [[0 for i in range(n+1)] for j in range(m+1)]\n",
        "    \n",
        "    for i in range(m+1): #iterating mn times\n",
        "        \n",
        "        for j in range(n+1): \n",
        "            \n",
        "            \n",
        "            if i == 0 or j == 0: #if base case then 0\n",
        "               \n",
        "                c[i][j] = 0\n",
        "                \n",
        "            elif x[i-1] == y[j-1]: #if the last letter in the slice is the same\n",
        "                \n",
        "                c[i][j] = c[i-1][j-1]+1\n",
        "                b[i][j] = \"NW\"\n",
        "                \n",
        "            elif c[i-1][j] >= c[i][j-1]: #when different \n",
        "                \n",
        "                c[i][j] = c[i-1][j]\n",
        "                b[i][j] = \"N\"\n",
        "                \n",
        "            else:\n",
        "                \n",
        "                c[i][j] = c[i][j-1] #else\n",
        "                b[i][j] = \"W\" \n",
        "                \n",
        "    return c, b \n",
        "\n",
        "#############\n",
        "\n",
        "def find_lcs(b, x, i, j, lcs): \n",
        "    if i == 0 or j==0: \n",
        "        return \n",
        "    if b[i][j] == \"NW\": \n",
        "        find_lcs(b, x, i-1, j-1, lcs) #function calls itself\n",
        "        lcs.append(x[i-1])\n",
        "    elif b[i][j] == \"N\":\n",
        "        find_lcs(b, x, i-1, j, lcs) #recursion\n",
        "    else:\n",
        "        find_lcs(b, x, i, j-1, lcs) #recursion\n",
        "    return lcs\n",
        "\n",
        "#############\n",
        "\n",
        "def print_lcs(b,x,i,j):\n",
        "\n",
        "    lcs = [] #creates new list to keep data\n",
        "    lcs = find_lcs(b, x, i+1, j+1, lcs) #finds longest common subsequence\n",
        "    return lcs, len(lcs) #returns array and length\n",
        "\n",
        "#############\n",
        "\n",
        "\n",
        "def longestCommonSubsequence(x, y):\n",
        "    \"\"\"\n",
        "    Gives the length of the longest common substring between strings x and y\n",
        "    \n",
        "    Inputs:\n",
        "    - x, y: strings\n",
        "    \"\"\"\n",
        "    c, b = lcs_length(x, y)\n",
        "    \n",
        "    return print_lcs(b,x,len(x)-1,len(y)-1)[1]\n",
        "\n",
        "\n",
        "    raise NotImplementedError()"
      ]
    },
    {
      "cell_type": "code",
      "execution_count": null,
      "metadata": {
        "id": "fn0PmxJiyyxn"
      },
      "outputs": [],
      "source": [
        "assert(longestCommonSubsequence('ZZZZZ', 'ZZZZZ')==5)\n",
        "assert(longestCommonSubsequence('QWERTY', 'ASDFGHJ')==0)\n",
        "assert(longestCommonSubsequence('1X2X3X4X5X6X', 'Y1Y2Y3Y4Y5Y6')==6) # 1,2,3,4,5,6\n",
        "assert(longestCommonSubsequence('qMwIweryNeEeryerrutryuReVuAtur', 'zMvcxvzbIvcNnbEnRmbvnVmAmbc')==7) # M, I, N, E, R, V, A"
      ]
    },
    {
      "cell_type": "code",
      "execution_count": null,
      "metadata": {
        "deletable": false,
        "editable": false,
        "nbgrader": {
          "checksum": "1feba1d39bfd6e258b3aa17b54a1025f",
          "grade": true,
          "grade_id": "cell-b1e12047a3b75b18",
          "locked": true,
          "points": 0,
          "schema_version": 1,
          "solution": false
        },
        "id": "yJgYLU-Lyyxo"
      },
      "outputs": [],
      "source": [
        "assert(longestCommonSubsequence('ABCBDAB', 'BDCABA')==4)"
      ]
    },
    {
      "cell_type": "markdown",
      "metadata": {
        "deletable": false,
        "editable": false,
        "nbgrader": {
          "checksum": "187aa53c92b2c4e09e1a648a15cd3232",
          "grade": false,
          "grade_id": "cell-b17386c813c90125",
          "locked": true,
          "schema_version": 1,
          "solution": false
        },
        "id": "gFsszf-jyyxo"
      },
      "source": [
        "### Question 2. [#DynamicProgramming] \n",
        "\n",
        "How many LCSs are there in Set_Strings? Generate the matrix of the lengths of the LCS for every pair of strings in Set_Strings. The matrix should be cast as a two-dimensional numpy array. **Store this 2D numpy array to a variable named `C`**.\n",
        "\n",
        "Your 2D array `C` should have dimension (7,7) and `C[i,j]` should give the length of the LCS for the $i-$th and $j-$th strings. For example, `C[0,3]` gives the length of the LCS for string `a` and string `d`."
      ]
    },
    {
      "cell_type": "code",
      "execution_count": null,
      "metadata": {
        "deletable": false,
        "nbgrader": {
          "checksum": "cb8c622730b9ac221cfa5cff9e3e4a65",
          "grade": false,
          "grade_id": "cell-716501a7b35216b6",
          "locked": false,
          "schema_version": 1,
          "solution": true
        },
        "id": "1SANsKRMyyxo"
      },
      "outputs": [],
      "source": [
        "##### Defines Set_Strings\n",
        "\n",
        "Set_Strings = [('a','ACAATCCTCGCGCAGAACAACACTTTTAACGTATCCTTGATCATTTTCCGTCCTAAGTCGAATT'), \n",
        "               ('b','CATCGCAAGCCAGCCTAATGACCGATCTCGGGTGTACTAATGGATCGTATCTCCACTCTTACACTGTCGTATTG'), \n",
        "               ('c','TCCCAGGCACTGCGACAGAAACGAGAGCGGTTTTTGACGATGGCATTCATCGATTTTCCCCCCCCTACTGATACAAACAGT'), \n",
        "               ('d','AAGCGTAATGCTGGGTAGGGAGCAAACAGGTCAAGCGGACTTGTAACCATTTTTCCCACTAAGAAGTCGCATATA'), \n",
        "               ('e','GCGTCCGCAACGTTGGGCTTCAAACGTACCGAGTTTCCGATGGATTATATTGGACAGATGATCCTACCAAGTGCCTTTTCTAACAGCTCGGTAATGTC'), \n",
        "               ('f','ACAGACTGCGGAAGCGCGACGCTTGATTTCGGCAGCCCCACGGATGGTACATAACTGCTGTTACCTACGCTACCTGCTAAACACTTCCCGCTCTG'), \n",
        "               ('g','ACGAGCAGCCACAGCACACCGTTAACTATGTGATAATCCCTCATGCGATG')]\n",
        "\n",
        "\n",
        "#####\n",
        "\n",
        "def create_array(strings):\n",
        "\n",
        "    C = np.zeros((7,7)) #Creates empty 7x7 array (zeros)\n",
        "\n",
        "\n",
        "    for i in range(len(strings)): #Iterates once per possible string combination. 7x7 = 49 times\n",
        "        for j in range(len(strings)):\n",
        "            C[i,j]=longestCommonSubsequence(strings[i][1], strings[j][1]) #Stores length of LCS of string combination in 2D array\n",
        "\n",
        "    return C #Prints array"
      ]
    },
    {
      "cell_type": "code",
      "execution_count": null,
      "metadata": {
        "id": "t6HgPIixyyxo",
        "outputId": "f0728a98-8960-4e05-b89e-f2bd094b85df"
      },
      "outputs": [
        {
          "data": {
            "text/plain": [
              "array([[64., 45., 49., 48., 50., 48., 38.],\n",
              "       [45., 74., 47., 46., 59., 58., 45.],\n",
              "       [49., 47., 81., 48., 57., 57., 39.],\n",
              "       [48., 46., 48., 75., 53., 54., 38.],\n",
              "       [50., 59., 57., 53., 98., 61., 43.],\n",
              "       [48., 58., 57., 54., 61., 95., 45.],\n",
              "       [38., 45., 39., 38., 43., 45., 50.]])"
            ]
          },
          "execution_count": 7,
          "metadata": {},
          "output_type": "execute_result"
        }
      ],
      "source": [
        "C = create_array(Set_Strings)\n",
        "C"
      ]
    },
    {
      "cell_type": "code",
      "execution_count": null,
      "metadata": {
        "id": "Hn3rPQuqyyxo",
        "outputId": "96b3e4c6-8bb8-4929-be64-1880ae4df525"
      },
      "outputs": [
        {
          "data": {
            "text/plain": [
              "True"
            ]
          },
          "execution_count": 8,
          "metadata": {},
          "output_type": "execute_result"
        }
      ],
      "source": [
        "a = 'ACAATCCTCGCGCAGAACAACACTTTTAACGTATCCTTGATCATTTTCCGTCCTAAGTCGAATT'\n",
        "b = 'CATCGCAAGCCAGCCTAATGACCGATCTCGGGTGTACTAATGGATCGTATCTCCACTCTTACACTGTCGTATTG'\n",
        "c = 'TCCCAGGCACTGCGACAGAAACGAGAGCGGTTTTTGACGATGGCATTCATCGATTTTCCCCCCCCTACTGATACAAACAGT'\n",
        "d = 'AAGCGTAATGCTGGGTAGGGAGCAAACAGGTCAAGCGGACTTGTAACCATTTTTCCCACTAAGAAGTCGCATATA'\n",
        "e = 'GCGTCCGCAACGTTGGGCTTCAAACGTACCGAGTTTCCGATGGATTATATTGGACAGATGATCCTACCAAGTGCCTTTTCTAACAGCTCGGTAATGTC'\n",
        "f = 'ACAGACTGCGGAAGCGCGACGCTTGATTTCGGCAGCCCCACGGATGGTACATAACTGCTGTTACCTACGCTACCTGCTAAACACTTCCCGCTCTG' \n",
        "g = 'ACGAGCAGCCACAGCACACCGTTAACTATGTGATAATCCCTCATGCGATG'\n",
        "\n",
        "C[0,3]==longestCommonSubsequence(a, d)"
      ]
    },
    {
      "cell_type": "code",
      "execution_count": null,
      "metadata": {
        "deletable": false,
        "editable": false,
        "nbgrader": {
          "checksum": "90742a3e427cce7e21dbb6938d29bed1",
          "grade": true,
          "grade_id": "cell-7d78dbf634c84eea",
          "locked": true,
          "points": 0,
          "schema_version": 1,
          "solution": false
        },
        "id": "xNvj9nn0yyxp"
      },
      "outputs": [],
      "source": [
        "# Please ignore this cell. This cell is for us to implement the tests \n",
        "# to see if your code works properly. "
      ]
    },
    {
      "cell_type": "markdown",
      "metadata": {
        "deletable": false,
        "editable": false,
        "nbgrader": {
          "checksum": "ca56b2cd261288c198ede54dbeac2619",
          "grade": false,
          "grade_id": "cell-ad4a02de335ca7e8",
          "locked": true,
          "schema_version": 1,
          "solution": false
        },
        "id": "tZ-ZtpXPyyxp"
      },
      "source": [
        "### Question 3. [#DataStructures]\n",
        "\n",
        "Manually examine the matrix you obtained in 2, and infer the genealogical relationships between strings (i.e., explicitly identify the great-grandparent, grandparent, parent and child strings), and draw the resulting genealogy binary tree associated with `Set_Strings`.\n"
      ]
    },
    {
      "cell_type": "markdown",
      "metadata": {
        "id": "t6JMSkLoyyxp"
      },
      "source": [
        "### Longest Common Subsequence"
      ]
    },
    {
      "cell_type": "markdown",
      "metadata": {
        "id": "R3_xhojIyyxp"
      },
      "source": [
        "Although the LCS is a great tool to analyze how similar two strings are, as explained by Navarro (2001), LCS only accounts for two of the three kinds of mutations that the string set went through, and an analysis using it would be rather incomplete. For that reason I decided to use the Levenshtein distance as main metric for the reasoning, as this mathematical approach accounts for all three of the mutations we are dealing with."
      ]
    },
    {
      "cell_type": "markdown",
      "metadata": {
        "deletable": false,
        "nbgrader": {
          "checksum": "3e9a1d754b0b22b3bf4d638ce48a3468",
          "grade": true,
          "grade_id": "cell-2fdd23e93518166b",
          "locked": false,
          "points": 0,
          "schema_version": 1,
          "solution": true
        },
        "id": "A30FOQfSyyxp"
      },
      "source": [
        "### Levenshtein distance\n",
        "\n",
        "After researching the topic of DNA management and analysis using programming languages, I decided to apply the Levenshtein distance (edit distance) as the ruling metric to assess the relationships between pairs of strings.\n",
        "\n",
        "* **What is it?**\n",
        "\n",
        "Named after its developer and Russian scientist Vladimir Levenshtein, the Levenshtein distance is a measure of the similarity between two strings, more specifically, the minimum number of single-character edits (insertions, deletions or substitutions) required to change one string into another. \n",
        "\n",
        "Let us define two strings:\n",
        "\n",
        "    1 Source string (s)  \n",
        "    2 Target string (t) \n",
        "   \n",
        "The Levenshtein distance (LD) is the number of deletions, insertions, or substitutions required to transform *s* into *t*. The greater $LD(s, t)$ is, the more different *s* and *t* are from each other (Gilleland, 2019).\n",
        "\n",
        "   Examples: \n",
        "\n",
        "If *s = \"Minerva\"* and *t = \"Minerva\"*, then $LD(s, t) = 0$, because no transformations are needed. The strings are already identical. \n",
        "\n",
        "If *s = \"Minerva\" and t = \"Manerva\"*, then $LD(s,t) = 1$, because one substitution (change \"i\" to \"a\") is sufficient to transform *s* into *t*. \n",
        "\n",
        "If *s = \"Minerva\"* and *t = \"Manervan\"*, then $LD(s,t) = 2$, because one substitution (change \"i\" to \"a\") and one insertion (add \"n\" at the end) are sufficient to transform *s* into *t*. \n",
        "\n",
        "*** Note that $LD(s, t) = LD(t, s)$, it takes the same number of edits to go from s* to *t* as from *t* to *s*."
      ]
    },
    {
      "cell_type": "markdown",
      "metadata": {
        "id": "9-_8cF-Oyyxp"
      },
      "source": [
        "* **How is it implemented?**\n",
        "\n",
        "The Levenshtein distance is mathematically defined through the following recursive piecewise function (Klein, 2011):"
      ]
    },
    {
      "cell_type": "code",
      "execution_count": null,
      "metadata": {
        "id": "yKUtoP2gyyxp",
        "outputId": "82b1df06-b5c1-4600-87d8-f5d2063816e6"
      },
      "outputs": [
        {
          "data": {
            "image/png": "[encoded data removed]",
            "text/plain": [
              "<IPython.core.display.Image object>"
            ]
          },
          "execution_count": 10,
          "metadata": {
            "image/png": {
              "width": 700
            }
          },
          "output_type": "execute_result"
        }
      ],
      "source": [
        "Image('Levenshtein Function.png', width=700)"
      ]
    },
    {
      "cell_type": "markdown",
      "metadata": {
        "id": "EyzNmIsIyyxq"
      },
      "source": [
        "Where:\n",
        "\n",
        "    a = Source string\n",
        "    b = Target String\n",
        "    i = Index for last character in Source string (length of a)\n",
        "    j = Index for last character in Target string (length of b)\n"
      ]
    },
    {
      "cell_type": "markdown",
      "metadata": {
        "id": "3QyaRh0Iyyxq"
      },
      "source": [
        "* **Why is it a good fit for this problem?**\n",
        "\n",
        "Unlike the Longest Common Subsequence (LCS), Levenshtein distance accounts for insertions, deletions, and substitutions (Navarro, 2001). We know from the description of the String set that those were the kinds of mutations the DNA went through. Thus, LD will allow us to make accurate inferences about the nature of the collection. Note that, as explained before, the fact that LCS only accounts for 2 of the 3 kinds of mutation makes LD, in comparison, a better metric for the scenario."
      ]
    },
    {
      "cell_type": "markdown",
      "metadata": {
        "id": "SGNqnbKvyyxq"
      },
      "source": [
        "* **Approaching the problem through Dynamic Programming:**\n",
        "\n",
        "\n",
        "\n"
      ]
    },
    {
      "cell_type": "code",
      "execution_count": null,
      "metadata": {
        "id": "Z4Y7XsM4yyxq",
        "outputId": "29d4e40b-2ed4-4312-b8cc-777074ae3fe2"
      },
      "outputs": [
        {
          "data": {
            "text/plain": [
              "5.0"
            ]
          },
          "execution_count": 11,
          "metadata": {},
          "output_type": "execute_result"
        }
      ],
      "source": [
        "## IMPLEMENTATION FOLLOWING THE PIECEWISE FUNCTION ABOVE AND USING DYNAMIC PROGRAMMING ##\n",
        "\n",
        "def levenshtein_distance(a, b): # s = Source string // t = Target string\n",
        "    \"\"\" \n",
        "    Calculates levenshtein distance between two strings.\n",
        "    \n",
        "    Inputs: 2 strings whose relationship is to be compared\n",
        "    \n",
        "    Outputs: Minimum number of edits to transform 'a' into 'b' and vice versa\n",
        "        \n",
        "    \"\"\"\n",
        "    \n",
        "    #Initializes array for memoization\n",
        "\n",
        "    n = len(a) # Establishes dimensions y-axis of array as number of characters in a \n",
        "    m = len(b) # Establishes dimensions x-axis of array as number of characters in b\n",
        "    \n",
        "    if n == 0: #If \n",
        "        return m\n",
        "    elif m == 0:\n",
        "        return n\n",
        "    \n",
        "    array = np.zeros((n+1,m+1)) #Creates empty array (zeros)\n",
        "    \n",
        "    for i in range(n+1): #Iterates once per character in a\n",
        "        \n",
        "        for j in range(m+1): #Iterates once per character in b\n",
        "            \n",
        "            array[i][0] = i #Populates first column with indices of characters in a\n",
        "            array[0][j] = j #Populates first row with indices of characters in b\n",
        "            \n",
        "    #Piecewise function\n",
        "    \n",
        "    for j in range(1, m+1): #Iterates once per character in a\n",
        "        \n",
        "        for i in range(1, n+1): #Iterates once per character in b\n",
        "            \n",
        "            if a[i-1] == b[j-1]: #Compares a_i and b_j \n",
        "                cost = 0 #If same (no changes needed), then added cost = 0\n",
        "            else:\n",
        "                cost = 1 #If different (one more chage needed) cost = 1\n",
        "                \n",
        "            array[i][j] = min(array[i-1][j] + 1, #If deletions\n",
        "                              array[i][j-1] + 1, #If insertion\n",
        "                              array[i-1][j-1] + cost) #If substitution \n",
        "    #print(array)\n",
        "    \n",
        "    return array[i][j] # Returns\n",
        "    \n",
        "    \n",
        "\n",
        "levenshtein_distance('ABCBDAB', 'BDCABA')"
      ]
    },
    {
      "cell_type": "markdown",
      "metadata": {
        "id": "3vA4_Xklyyxq"
      },
      "source": [
        "**We can build a similar array to the one we created to store the LCS data:**"
      ]
    },
    {
      "cell_type": "code",
      "execution_count": null,
      "metadata": {
        "id": "isI3PBjayyxr",
        "outputId": "62eed06a-b37a-47a3-f74e-e0b5a3b54c78"
      },
      "outputs": [
        {
          "data": {
            "text/plain": [
              "array([[inf, 34., 34., 33., 53., 52., 26.],\n",
              "       [34., inf, 41., 37., 41., 42., 33.],\n",
              "       [34., 41., inf, 45., 51., 48., 43.],\n",
              "       [33., 37., 45., inf, 51., 48., 39.],\n",
              "       [53., 41., 51., 51., inf, 52., 56.],\n",
              "       [52., 42., 48., 48., 52., inf, 51.],\n",
              "       [26., 33., 43., 39., 56., 51., inf]])"
            ]
          },
          "execution_count": 12,
          "metadata": {},
          "output_type": "execute_result"
        }
      ],
      "source": [
        "F = np.zeros((7,7)) #Creates empty 7x7 array (zeros)\n",
        "\n",
        "\n",
        "for i in range(len(Set_Strings)): #Iterates once per possible string combination. 7x7 = 49 times\n",
        "    for j in range(len(Set_Strings)):\n",
        "        if Set_Strings[i][1] == Set_Strings[j][1]: #If comparing string to itself\n",
        "            F[i,j] = float(\"inf\") #Mark as infinite so it is not a confound \n",
        "                                  #while getting closest relationships\n",
        "        else:\n",
        "            F[i,j]=levenshtein_distance(Set_Strings[i][1], Set_Strings[j][1])  #calculates LD for each combo\n",
        "        \n",
        "F\n",
        "\n"
      ]
    },
    {
      "cell_type": "markdown",
      "metadata": {
        "id": "Gg8IFTyyyyxr"
      },
      "source": [
        "* As mentioned before, the greater $LD(s, t)$ is, the more different *s* and *t* are from each other. Then, in order to infer the relationships between the strings, we assume that the closest relationships will be those of parent-child. In other words, the string to which you can get changing the least characters (the least present mutations) will be that of your parent or child:\n",
        "\n",
        "    * We can assume this as the probabilities of mutation increase the farther we get in the genealogical tree, so we expect the number of different characters in two strings to be proportional to how far away they are from each other in the genealogical tree.\n",
        "\n",
        "The next step in the analysis will be to find those closest relationships:"
      ]
    },
    {
      "cell_type": "code",
      "execution_count": null,
      "metadata": {
        "id": "Qy_R-uWLyyxr",
        "outputId": "2e2c5d02-c0bf-4563-9af0-c55bbf2611d9"
      },
      "outputs": [
        {
          "name": "stdout",
          "output_type": "stream",
          "text": [
            "26.0\n",
            "33.0\n",
            "34.0\n",
            "33.0\n",
            "41.0\n",
            "42.0\n",
            "26.0\n"
          ]
        }
      ],
      "source": [
        "for string in F:\n",
        "    print(min(string)) #The closest relationships will be given by the minimum LDs\n",
        "    \n",
        "    #I improved the querying in quesrtion 4 by switching to a data frame, so the program outputs the \n",
        "    # names of the strings and not only their LDs"
      ]
    },
    {
      "cell_type": "markdown",
      "metadata": {
        "id": "6nBQNWIKyyxr"
      },
      "source": [
        "* We can get the relationships \"coordinates\" (string1, string2) from the previous table and we get that:\n",
        "\n",
        "    * ***a*** is the closest to ***g***\n",
        "\n",
        "    * ***b*** is the closest to ***g***\n",
        "\n",
        "    * ***c*** is the closest to ***a***\n",
        "\n",
        "    * ***d*** is the closest to ***a***\n",
        "\n",
        "    * ***e*** is the closest to ***b***\n",
        "\n",
        "    * ***f*** is the closest to ***b***\n",
        "\n",
        "    * ***g*** is the closest to ***a***\n",
        "\n",
        "\n",
        "* From the previous rationale we define this closest relationships as parent-child. Thus, we conclude that:\n",
        "\n",
        "    1. Since ***a*** and ***b*** need the least edits to become ***g***, they are its children.\n",
        "\n",
        "    2. Since ***c*** and ***d*** need the least edits to become ***a***, they are its children.\n",
        "\n",
        "    3. Since ***e*** and ***f*** need the least edits to become ***b***, they are its children.\n",
        "    \n",
        "    \n",
        "* Note that we can also infer the same relationships by looking at the strings' closeness to the parent string *g* (root of the tree)\n"
      ]
    },
    {
      "cell_type": "code",
      "execution_count": null,
      "metadata": {
        "id": "veTpnHUPyyxr",
        "outputId": "d7542e1a-7cc7-40e6-d3dd-f06746673e68"
      },
      "outputs": [
        {
          "data": {
            "text/plain": [
              "array([26., 33., 43., 39., 56., 51., inf])"
            ]
          },
          "execution_count": 14,
          "metadata": {},
          "output_type": "execute_result"
        }
      ],
      "source": [
        "F[6] #Prints edit distance from every string to g (root)"
      ]
    },
    {
      "cell_type": "markdown",
      "metadata": {
        "id": "4gYjsGanyyxr"
      },
      "source": [
        "$lev(g, a) = 26 < lev(g, b) = 33 < lev(g, d)=39<lev(g, c) = 43<lev(g,f)=51<lev(g, e)=56$\n",
        "\n",
        "The list above can be conceptualized as a 1D representation of the binary tree that answers our question (except for the position of the root):\n",
        "\n",
        "    F[6] = [child1, child2, grandchild1.1, grandchild1.2, grandchild2.1, grandchild2.2]"
      ]
    },
    {
      "cell_type": "markdown",
      "metadata": {
        "id": "4nu67rrhyyxs"
      },
      "source": [
        "Finally, we can present these relationshios on an actual genealogical tree:\n",
        "    \n",
        "             ___g___          --> Parent string ~ Tree root ~ First Generation\n",
        "         ___/       \\___\n",
        "        a               b     --> Children ~ Tree Branches ~ Second Generation\n",
        "       / \\             / \\\n",
        "     c     d         e     f  --> Grandchildren ~ Tree Leaves ~ Third Generation"
      ]
    },
    {
      "cell_type": "markdown",
      "metadata": {
        "deletable": false,
        "editable": false,
        "nbgrader": {
          "checksum": "84180d0d0b8d9ed1d44222e2a39b35b9",
          "grade": false,
          "grade_id": "cell-99f4e85c2cec7c3c",
          "locked": true,
          "schema_version": 1,
          "solution": false
        },
        "id": "ohZpdt-lyyxs"
      },
      "source": [
        "## Question 4. [#PythonProgramming, #CodeReadability, #DynamicProgramming or #GreedyAlgorithms] \n",
        "\n",
        "Write an algorithm in Python for the general case, which takes as input $N$ sequencing strings and outputs a genealogy binary tree associated with the $N$ strings that best exposes the relationships between them."
      ]
    },
    {
      "cell_type": "code",
      "execution_count": null,
      "metadata": {
        "deletable": false,
        "nbgrader": {
          "checksum": "4ddda57d2cbb78fc0f19ddb18ff7111c",
          "grade": true,
          "grade_id": "cell-d7a9b229c16d281f",
          "locked": false,
          "points": 0,
          "schema_version": 1,
          "solution": true
        },
        "id": "zfCgb-Uayyxs"
      },
      "outputs": [],
      "source": [
        "import pandas as pd\n",
        "def genealogy_tree(strings):\n",
        "    \"\"\" \n",
        "    Builds Levenshtein Distances matrix with the input strings, then minimizes edits from each string,\n",
        "    finds parent-child rrlationships and finally builds the genealogical binary tree.\n",
        "    \n",
        "    Inputs: List of N strings whose relationships you want to assess\n",
        "    \n",
        "    Outputs: Genealogical tree that best describes their relationships based on the Levenshtein Distance\n",
        "        \n",
        "    \"\"\"\n",
        "    \n",
        "    #### BUILDS ARRAY OF LEVENSHTEIN DISTANCES #####\n",
        "    \n",
        "    n = len(strings)\n",
        "    \n",
        "    G = [[[] for i in range(n)] for j in range(n)] #Creates empty nxn array\n",
        "    \n",
        "\n",
        "    for i in range(n): #Iterates once per possible string combination. \n",
        "        for j in range(n):\n",
        "            if strings[i][1] == strings[j][1]: #If comparing string to itself\n",
        "                G[i][j] = float(\"inf\") #Mark as infinite to it is not \n",
        "                                        #a confound while getting closest relationships\n",
        "            else:\n",
        "                G[i][j]=levenshtein_distance(strings[i][1], strings[j][1])#, strings[i][0], strings[j][0] \n",
        "                        #calculates LD for each combo\n",
        "    \n",
        "    #### CREATES ARRAY OF DIFFERENCE BETWEEN THE LENGTH OF STRING AND \n",
        "    ### ITS LONGEST COMMON SUBSEQUENCE WITH EACH ONE OF THE OTHER STRINGS\n",
        "    \n",
        "    C = create_array(Set_Strings) #Creates array of LCSs based on Question 2\n",
        "    n = 0 #Starts counter\n",
        "    D = 0 #Initializes variable that will take value of denominator for division\n",
        "\n",
        "    for row in (C): #Iterates once per row\n",
        "        n +=1 #Adds 1 to counter, selects largest number in set (length of string)\n",
        "        D = row[n-1] #Sets variable for substraction to length of LCS\n",
        "\n",
        "        for i in range(7): #Iterates 7 times per row\n",
        "            if row[i]==D:\n",
        "                C[n-1, i] = 0\n",
        "            else:\n",
        "                C[n-1, i]=(D-row[i]) #Gets difference\n",
        "    \n",
        "    \n",
        "    #### ANALYSIS OF RELATIONSHIPS - LOOKS FOR CLOSEST RELATIONSHIPS, WHICH \n",
        "    ### ARE BETWEEN PARENT AND CHILDREN\n",
        "    \n",
        "    \n",
        "    closest = [] #List for minimum LDs\n",
        "    parents = [] #List for elements that are parents\n",
        "    tree = [] #List for the final tree (output)\n",
        "\n",
        "    for s in G:\n",
        "        closest.append(s.index(min(s))) #Calculates each string's closest relationship\n",
        "                                        #(shortest edit distance)\n",
        "    \n",
        "    \n",
        "    #### LOOKS FOR PARENTS AND ROOT (FIRST-GENERATION STRING)\n",
        "    \n",
        "\n",
        "    for i in range(len(closest)): #For each closest LD-closest relationship:\n",
        "        d = closest[i]\n",
        "\n",
        "        if C[i,d]<C[d,i]: #Checks which string is closer to the LCS, \n",
        "                            #which must be the parent\n",
        "            parents.append(i)\n",
        "        else:\n",
        "            parents.append(d) #Identifies parent and adds it to parents list\n",
        "\n",
        "\n",
        "    root = max(set(parents), key=parents.count) #The string that is the closest to\n",
        "                                                #the most strings (3) is the root\n",
        "\n",
        "        \n",
        "    #### ANALYSIS OF SUB-TREES DEPENDING ON CLOSENESS TO ROOT:\n",
        "    # THE CLOSER YOU ARE TO THE ROOT, THE HIGHER YOU ARE ON THE TREE\n",
        "        \n",
        "        \n",
        "    final = [root] #Initializes final list with the root as first element\n",
        "\n",
        "    answer = G[root] #Looks at the relationships of each string to the root\n",
        "\n",
        "    answer.sort() #Sorts them, the closer you are to the root, the higher up\n",
        "                    #you are in the genealogic tree\n",
        "\n",
        "    a = G[root] #Unsorted relationships to get indexes\n",
        "    \n",
        "    \n",
        "    #### CREATES OUTPUT ARRAY\n",
        "\n",
        "    \n",
        "    for u in range(n-1): #Creates output tree\n",
        "\n",
        "        final.append(a.index(answer[u])) #Gets order from closesness to root (answer[])\n",
        "                                        # and indexes from unsorted list\n",
        "\n",
        "    for ind in final:                #Takes list of indexes and transforms it into\n",
        "                                    #correspondent letters\n",
        "        tree.append(Set_Strings[ind][0])\n",
        "    \n",
        "    print('Array Version: ', tree)\n",
        "    \n",
        "    #### 2D TREE\n",
        "    \n",
        "    levels = int((n-1)/2) #Calculates levels of tree\n",
        "    \n",
        "    print(\"2D Version:\")\n",
        "    \n",
        "    for level in range(levels):\n",
        "        if level == 0: \n",
        "            print(\"Generation \", level, \":\", tree[level:level+1])\n",
        "        \n",
        "        else:\n",
        "            print(\"Generation \", level, \":\", tree[2*level-1:level*(level+2)])\n",
        "        \n",
        "    \n",
        "    return \n",
        "        \n",
        "    \n"
      ]
    },
    {
      "cell_type": "code",
      "execution_count": null,
      "metadata": {
        "id": "DU9Eksavyyxs",
        "outputId": "a374ec4e-a1d8-4de8-88cf-969cebefd0be"
      },
      "outputs": [
        {
          "name": "stdout",
          "output_type": "stream",
          "text": [
            "Array Version:  ['g', 'a', 'b', 'c', 'd', 'e', 'f']\n",
            "2D Version:\n",
            "Generation  0 : ['g']\n",
            "Generation  1 : ['a', 'b']\n",
            "Generation  2 : ['c', 'd', 'e', 'f']\n"
          ]
        }
      ],
      "source": [
        "G=genealogy_tree(Set_Strings)\n",
        "\n",
        "G"
      ]
    },
    {
      "cell_type": "markdown",
      "metadata": {
        "deletable": false,
        "editable": false,
        "nbgrader": {
          "checksum": "b6a555f91183162ebb0a3329c6b0376e",
          "grade": false,
          "grade_id": "cell-ea63d54a6ed15f3f",
          "locked": true,
          "schema_version": 1,
          "solution": false
        },
        "id": "Sp4zQDhyyyxs"
      },
      "source": [
        "### Question 5. [#ComputationalCritique] \n",
        "\n",
        "Write any strengths or weaknesses of your suggested algorithm.\n"
      ]
    },
    {
      "cell_type": "markdown",
      "metadata": {
        "deletable": false,
        "nbgrader": {
          "checksum": "3b3da978eaaf95a4460df8c11db9a158",
          "grade": true,
          "grade_id": "cell-3998b4dd87b3c6d6",
          "locked": false,
          "points": 0,
          "schema_version": 1,
          "solution": true
        },
        "id": "i6npAfqiyyxt"
      },
      "source": [
        "**Strengths:**\n",
        "\n",
        "* The relationships between the nodes are assessed through the Levenshtein distance instead of only using the length of the Longest Common Subsequence, which makes it more accurate because, as mentioned before, the LD accounts for insertions, deletions, and substitutions, while the LCS only accounts for insertions and deletions. We know that the strings went through those three kinds of mutations. Thus, basing our inferences in LCS is an incomplete analysis.\n",
        "\n",
        "\n",
        "* Along the same lines, implementing the Levenshtein distance (and more generally using a dynamic programming algorithm) represents the fastest way to compute the similarities between strings. As Hardesty (2015) explains, computer scientists have not been able to find a better approach to the problem of comparing DNA strings in over 50 years now, which means that we are tackling the problem as fast as it is currently possible.\n",
        "\n",
        "\n",
        "* Since the code generalizes for N strings, it allows the user to input any number of strings they want to analyze, and the program is able to create a proper matrix, make inferences, and output as many levels of the tree as are required.\n",
        "\n",
        "\n",
        "**Weaknesses:**\n",
        "\n",
        "* Although we tackle the problem parsimoniously and as fast as we can, the time and space complexity of the algorithm is not efficient if we were to apply this to a large-enough DNA string to make such inferences in real-life: both computing the LD and LCS of any pair of strings will require to build a matrix of size NxM, where N and M are the lengths of the strings. Consequently, the complexity is $Θ(NM)$, and if we assume that we will be comparing strings of around the same length (this will vary depending on the probabilities of mutation), then $Θ(N^2)$. DNA strings have millions of consecutive letters (the complete human genome has three billion letters), which constrains the applications of the algorithm to shorter strings (how short will depend on the computer time and storage we have available).\n",
        "\n",
        "\n",
        "* The applicability of the algorithm will also be constrained to problems of the same nature as the example (strings that went through deletion, insertion, and substitution). However, in nature, there are other kinds of mutations that the code does not account for, like frameshift or transposition, so evaluating relationships between strings closer to reality might require some changes to account for more types of mutation.\n",
        "\n",
        "\n",
        "* Moreover, the present implementation does not account for edge cases including when more than two strings require the same number of edits to become another string (lines 77 to 88). In other words, the code assumes that each parent will have precisely 2 children and that the LD to the root will be directly proportional to the string's closeness to the root (which can vary and not be true as mutation probabilities increase)."
      ]
    },
    {
      "cell_type": "markdown",
      "metadata": {
        "id": "E-DD1CaQyyxt"
      },
      "source": [
        "#########################\n",
        "* #constraints: The explanation elaborates on how the computational complexity of the algorithm is too high in order to extrapolate the technique to a real-world scenario. It is true that it can still be use to assess small portions of strings, but we could probably not infer parent-child relationships from strings short enough to be able to run the algorithm."
      ]
    },
    {
      "cell_type": "markdown",
      "metadata": {
        "deletable": false,
        "editable": false,
        "nbgrader": {
          "checksum": "b3b4363d8be3282925c611477b3c37de",
          "grade": false,
          "grade_id": "cell-b395aed18ada65fb",
          "locked": true,
          "schema_version": 1,
          "solution": false
        },
        "id": "KcKPKH85yyxt"
      },
      "source": [
        "### Question 6. [#ComplexityAnalysis] \n",
        "\n",
        "What is the computational complexity of your solution to produce genealogy binary trees? You can consider M to be the length of a gene, and N the number of genes."
      ]
    },
    {
      "cell_type": "markdown",
      "metadata": {
        "deletable": false,
        "nbgrader": {
          "checksum": "bf6ec1d0b5f51b86d434c732525260b9",
          "grade": true,
          "grade_id": "cell-f8bec0a49ae60dee",
          "locked": false,
          "points": 0,
          "schema_version": 1,
          "solution": true
        },
        "id": "nDQBmKFLyyxt"
      },
      "source": [
        "For the LD array:\n",
        "\n",
        "1. Building the array requires to run \"levenshtein_distance(a, b)\" $(N^2)- N$~$(N^2)$ times (since when comparing the string to itself we just append +oo so we substract N).\n",
        "\n",
        "2. Running \"levenshtein_distance(a, b)\" has a complexity of $Θ(nm) + Θ(n)+ Θ(m) $(where n and m are the lenght of the strings, that if we assume is similar ~$ Θ(n^2) $ and if we consider M as the length of gene ~ $ Θ(M^2) $\n",
        "     * In conclusion, building the array has a complexity of $ Θ(N^2M^2) $ \n",
        "    \n",
        "For the LCS array:\n",
        "\n",
        "1. Similar to the LD array it also require to build a matrix of size $(N^2)$ and to run longestCommonSubsequence(x, y) that also has a complexity of $ Θ(M^2) $ \n",
        "\n",
        "2. Getting the difference between the LCS and the length of the string (lines 36 to 45) requires $(N^2)- N$~$(N^2)$ steps \n",
        "\n",
        "     * In conclusion, building the differences array has a complexity of $ Θ(N^2M^2+N^2) $ ~ $ Θ(N^2M^2) $ \n",
        "\n",
        "For analysis:\n",
        "\n",
        "1. The rest of the analysis requires to run 4 for-loops over N which was a complexity of $ Θ(4N) $ ~ $ Θ(N) $\n",
        "\n",
        "2. We also sort the output list before the output using Python's built-in .sort(), which has a complexity of: $O(nlogn)$\n",
        "\n",
        "3. The output of the 2D tree has a complexity of $Θ(L)$ where L is the number of levels. However, the number of levels increases really slowly, as we need to duplicate the number of strings to get one level up, so we do not expect this take any large time, so we can just say $Θ(L)$ ~ $Θ(1)$\n",
        "\n",
        "     * In conclusion, the analysis has a complexity of  $ Θ(N)+O(NlogN) $ ~ $ O(NlogN) $\n",
        "     \n",
        "\n",
        "\n",
        "**The whole algorithm:**\n",
        "\n",
        "  * We can sum everything and we get:  $ Θ(N^2M^2) + Θ(N^2M^2)+O(NlogN)$ ~ $ Θ(2N^2M^2)+O(NlogN)$ \n",
        "     \n",
        "      **~ $Θ(2N^2M^2)$** (As we consider the input to scale asymptotically)"
      ]
    },
    {
      "cell_type": "markdown",
      "metadata": {
        "id": "ktqqBXToyyxt"
      },
      "source": [
        "### Question 7. [#ComputationalSolutions, #PythonProgramming, #CodeReadability] \n",
        "\n",
        "How would you estimate the probabilities of insertions, deletions, and mutations, $p_i, p_d,$ and $p_c$, respectively? (Hint: It is obvious that you don’t have enough data to obtain meaningful estimates for large datasets, but this small dataset has enough information for you to intuitively formulate estimates for $p_i, p_d,$ and $p_c$.). Make sure you include a working Python estimation that would take your algorithmic strategy into practice."
      ]
    },
    {
      "cell_type": "markdown",
      "metadata": {
        "deletable": false,
        "nbgrader": {
          "checksum": "6d6a00bbff4022b4ba517d0a8dd4dd77",
          "grade": true,
          "grade_id": "cell-ceaf3b6e672cb224",
          "locked": false,
          "points": 0,
          "schema_version": 1,
          "solution": true
        },
        "id": "T12Anpnoyyxt"
      },
      "source": [
        "Fortunately, the Levenshtein distance can be broken down into the three mutations, and thus, it is possible to add counters to each case and get an estimation of the probabilities taking a frequentist approach and using those metrics.\n",
        "As it can be seen below the probabilities vary from combination to combination. However, some boundaries can be estimated:\n",
        "\n",
        "\n",
        "* Probability of insertions: around 45%\n",
        "* Probability of deletions: around 40%\n",
        "* Probability of substitutions: around 4%\n",
        "\n",
        "\n",
        "I believe that these estimates might be far from the actual probabilities since the approach I used to get those take all the possible combinations and not only the ones that yield the actual result we have (going from one string to the other). I started developing a new approach in which I only take into account the combinations that yield the result. However it has a bug that I could not solve due to time constraints. *Note that I left the 'draft' of this implementation at the end."
      ]
    },
    {
      "cell_type": "code",
      "execution_count": null,
      "metadata": {
        "id": "wHRgkqLVyyxu"
      },
      "outputs": [],
      "source": [
        "def levenshtein_distance_prob(a, b): # s = Source string // t = Target string\n",
        "    \"\"\" \n",
        "    Calculates mutation probabilities between two strings.\n",
        "    \n",
        "    Inputs: 2 strings whose relationship is to be compared\n",
        "    \n",
        "    Outputs: probabilities of insertions, deletions and substitutions following a \n",
        "    frequentist approach\n",
        "        \n",
        "    \"\"\"\n",
        "    \n",
        "    #Initializes counters for frequentist inference of probability\n",
        "    \n",
        "    insertions = 0\n",
        "    deletions = 0\n",
        "    substitutions = 0 \n",
        "    \n",
        "    \n",
        "    #Initializes array for memoization\n",
        "\n",
        "    n = len(a) # Establishes dimensions y-axis of array as number of characters in a \n",
        "    m = len(b) # Establishes dimensions x-axis of array as number of characters in b\n",
        "    \n",
        "    if n == 0: #If \n",
        "        return m\n",
        "    elif m == 0:\n",
        "        return n\n",
        "    \n",
        "    array = np.zeros((n+1,m+1)) #Creates empty array (zeros)\n",
        "    \n",
        "    for i in range(n+1): #Iterates once per character in a\n",
        "        \n",
        "        for j in range(m+1): #Iterates once per character in b\n",
        "            \n",
        "            array[i][0] = i #Populates first column with indices of characters in a\n",
        "            array[0][j] = j #Populates first row with indices of characters in b\n",
        "            \n",
        "    #Piecewise function\n",
        "    \n",
        "    for j in range(1, m+1): #Iterates once per character in a\n",
        "        \n",
        "        for i in range(1, n+1): #Iterates once per character in b\n",
        "            \n",
        "            if a[i-1] == b[j-1]: #Compares a_i and b_j \n",
        "                cost = 0 #If same (no changes needed), then added cost = 0\n",
        "            else:\n",
        "                cost = 1 #If different (one more chage needed) cost = 1\n",
        "            \n",
        "            dele = array[i-1][j] + 1 #If deletions\n",
        "            inser = array[i][j-1] + 1 #If insertion\n",
        "            subs = array[i-1][j-1] + cost #If substitution \n",
        "            \n",
        "            if min(dele, inser, subs)==dele:\n",
        "                array[i][j] = dele\n",
        "                deletions +=1\n",
        "                \n",
        "            elif min(dele, inser, subs)==inser:\n",
        "                array[i][j] = inser\n",
        "                insertions +=1\n",
        "                \n",
        "            elif min(dele, inser, subs)==subs and cost==1:\n",
        "                array[i][j] = subs\n",
        "                substitutions +=1 \n",
        "            else:\n",
        "                array[i][j] = subs\n",
        "            \n",
        "    print( 'Probability of Insertions: ', insertions/(n*m))\n",
        "    \n",
        "    print( 'Probability of Deletions: ', deletions/(n*m))\n",
        "\n",
        "    print( 'Probability of Substitutions: ', substitutions/(n*m))\n",
        "    \n",
        "    \n",
        "    return array[i][j]"
      ]
    },
    {
      "cell_type": "code",
      "execution_count": null,
      "metadata": {
        "id": "kzmj5R-xyyxu",
        "outputId": "684884cf-fd62-43b3-c810-1850bd38024f"
      },
      "outputs": [
        {
          "name": "stdout",
          "output_type": "stream",
          "text": [
            "Probability of Insertions:  0.4865625\n",
            "Probability of Deletions:  0.3734375\n",
            "Probability of Substitutions:  0.0371875\n"
          ]
        },
        {
          "data": {
            "text/plain": [
              "26.0"
            ]
          },
          "execution_count": 18,
          "metadata": {},
          "output_type": "execute_result"
        }
      ],
      "source": [
        "levenshtein_distance_prob(g, a)"
      ]
    },
    {
      "cell_type": "code",
      "execution_count": null,
      "metadata": {
        "id": "hFvARBuIyyxu",
        "outputId": "bceaad70-7854-4da6-b8fa-47406a797fc0"
      },
      "outputs": [
        {
          "name": "stdout",
          "output_type": "stream",
          "text": [
            "Probability of Insertions:  0.522972972972973\n",
            "Probability of Deletions:  0.3327027027027027\n",
            "Probability of Substitutions:  0.0472972972972973\n"
          ]
        },
        {
          "data": {
            "text/plain": [
              "33.0"
            ]
          },
          "execution_count": 19,
          "metadata": {},
          "output_type": "execute_result"
        }
      ],
      "source": [
        "levenshtein_distance_prob(g, b)"
      ]
    },
    {
      "cell_type": "code",
      "execution_count": null,
      "metadata": {
        "id": "MxVWCa6syyxu",
        "outputId": "3b44e762-5284-48d8-a3c8-4411f3635026"
      },
      "outputs": [
        {
          "name": "stdout",
          "output_type": "stream",
          "text": [
            "Probability of Insertions:  0.47704475308641975\n",
            "Probability of Deletions:  0.38522376543209874\n",
            "Probability of Substitutions:  0.03742283950617284\n"
          ]
        },
        {
          "data": {
            "text/plain": [
              "34.0"
            ]
          },
          "execution_count": 20,
          "metadata": {},
          "output_type": "execute_result"
        }
      ],
      "source": [
        "levenshtein_distance_prob(a, c)"
      ]
    },
    {
      "cell_type": "code",
      "execution_count": null,
      "metadata": {
        "id": "fJwxf5SVyyxv",
        "outputId": "24312441-cca0-4619-8269-74ae88755549"
      },
      "outputs": [
        {
          "name": "stdout",
          "output_type": "stream",
          "text": [
            "Probability of Insertions:  0.43166666666666664\n",
            "Probability of Deletions:  0.421875\n",
            "Probability of Substitutions:  0.04625\n"
          ]
        },
        {
          "data": {
            "text/plain": [
              "33.0"
            ]
          },
          "execution_count": 21,
          "metadata": {},
          "output_type": "execute_result"
        }
      ],
      "source": [
        "levenshtein_distance_prob(a, d)"
      ]
    },
    {
      "cell_type": "code",
      "execution_count": null,
      "metadata": {
        "id": "_eZCwQb4yyxv",
        "outputId": "88d1a0d7-9e53-4e48-f363-137e9c7cf8f5"
      },
      "outputs": [
        {
          "name": "stdout",
          "output_type": "stream",
          "text": [
            "Probability of Insertions:  0.49931053502482076\n",
            "Probability of Deletions:  0.36803640375068947\n",
            "Probability of Substitutions:  0.04054054054054054\n"
          ]
        },
        {
          "data": {
            "text/plain": [
              "41.0"
            ]
          },
          "execution_count": 22,
          "metadata": {},
          "output_type": "execute_result"
        }
      ],
      "source": [
        "levenshtein_distance_prob(b, e)"
      ]
    },
    {
      "cell_type": "code",
      "execution_count": null,
      "metadata": {
        "id": "BsKfIaVuyyxv",
        "outputId": "db85f9f9-f962-4522-ef8d-58a1ee962254"
      },
      "outputs": [
        {
          "name": "stdout",
          "output_type": "stream",
          "text": [
            "Probability of Insertions:  0.47041251778093884\n",
            "Probability of Deletions:  0.3844950213371266\n",
            "Probability of Substitutions:  0.04793741109530583\n"
          ]
        },
        {
          "data": {
            "text/plain": [
              "42.0"
            ]
          },
          "execution_count": 23,
          "metadata": {},
          "output_type": "execute_result"
        }
      ],
      "source": [
        "levenshtein_distance_prob(b, f)"
      ]
    },
    {
      "cell_type": "code",
      "execution_count": null,
      "metadata": {
        "id": "Io8Ch-sWyyxv"
      },
      "outputs": [],
      "source": [
        "def probabilities(array, a,b):\n",
        "    \n",
        "    insertions = 0\n",
        "    deletions = 0\n",
        "    substitutions = 0 \n",
        "    \n",
        "    \n",
        "    n = min(len(a), len(b) )\n",
        "    m = max(len(a), len(b) )       \n",
        "\n",
        "    for i in range(1,n): #Iterates once per character in b\n",
        "\n",
        "        if a[i-1] == b[i-1]: #Compares a_i and b_j \n",
        "            cost = 0 #If same (no changes needed), then added cost = 0\n",
        "        else:\n",
        "            cost = 1 #If different (one more chage needed) cost = 1\n",
        "\n",
        "        dele = array[i-1][i] + 1 #If deletions\n",
        "        inser = array[i][i-1] + 1 #If insertion\n",
        "        subs = array[i-1][i-1] + cost #If substitution \n",
        "\n",
        "        if min(dele, inser, subs)==dele:\n",
        "            deletions +=1\n",
        "            print(dele)\n",
        "\n",
        "        elif min(dele, inser, subs)==inser:\n",
        "            insertions +=1\n",
        "            print(inser)\n",
        "\n",
        "        elif min(dele, inser, subs)==subs and cost==1:\n",
        "            substitutions +=1 \n",
        "            print(subs)\n",
        "        else:\n",
        "            print(subs)\n",
        "            \n",
        "    if len(a)>len(b):\n",
        "        \n",
        "        i+=1\n",
        "        \n",
        "        for j in range(i,m): #Iterates once per character in b\n",
        "            \n",
        "\n",
        "            if a[j-1] == b[i-1]: #Compares a_i and b_j \n",
        "                cost = 0 #If same (no changes needed), then added cost = 0\n",
        "            else:\n",
        "                cost = 1 #If different (one more chage needed) cost = 1\n",
        "\n",
        "            dele = array[j-1][i] + 1 #If deletions\n",
        "            inser = array[j][i-1] + 1 #If insertion\n",
        "            subs = array[j-1][i-1] + cost #If substitution \n",
        "\n",
        "            if min(dele, inser, subs)==dele:\n",
        "                deletions +=1\n",
        "                print(dele)\n",
        "\n",
        "            elif min(dele, inser, subs)==inser:\n",
        "                insertions +=1\n",
        "                print(inser)\n",
        "\n",
        "            elif min(dele, inser, subs)==subs and cost==1:\n",
        "                substitutions +=1 \n",
        "                print(subs)\n",
        "            else:\n",
        "                print(subs)\n",
        "        \n",
        "        \n",
        "    return deletions, insertions, substitutions"
      ]
    },
    {
      "cell_type": "markdown",
      "metadata": {
        "id": "8ddYPsCMyyxv"
      },
      "source": [
        "* #composition: The assignment had many instances in which I was required to give parsimonious written explanations of topics and my thought process to tackle the problem and get to a solution. The language of these explanations fits the context of the paper, the style of the writting is consistent throughout the text. The descriptions make use of nuances of scientific writing in order to be precise and unambiguous.\n",
        "\n",
        "\n",
        "* #sourcequality: The assignment required a lot of external research, and it was important to be aware of the source of the information that I used and applied while solving the problem and writing the explanations. All of my references come from reliable sources, (incluiding a peer-reviewed paper), they are all recent and relevant for the context and subject."
      ]
    },
    {
      "cell_type": "markdown",
      "metadata": {
        "id": "F8a23IBmyyxv"
      },
      "source": [
        "### References:\n",
        "\n",
        "1. Gilleland, M. (2019). Levenshtein Distance, in Three Flavors. Merriam Park Software. Retrieved from: https://people.cs.pitt.edu/~kirk/cs1501/Pruhs/Spring2006/assignments/editdistance/Levenshtein%20Distance.htm\n",
        "\n",
        "\n",
        "2. Hardesty, L. (2015). Longstanding problem put to rest. MIT News Office. Retrieved from: http://news.mit.edu/2015/algorithm-genome-best-possible-0610\n",
        "\n",
        "\n",
        "3. Navarro, G. (2011). A guided tour to approximate string matching. ACM Computing Surveys. doi:10.1145/375360.375365\n",
        "    "
      ]
    }
  ],
  "metadata": {
    "kernelspec": {
      "display_name": "Python 3",
      "language": "python",
      "name": "python3"
    },
    "language_info": {
      "codemirror_mode": {
        "name": "ipython",
        "version": 3
      },
      "file_extension": ".py",
      "mimetype": "text/x-python",
      "name": "python",
      "nbconvert_exporter": "python",
      "pygments_lexer": "ipython3",
      "version": "3.7.4"
    },
    "colab": {
      "provenance": []
    }
  },
  "nbformat": 4,
  "nbformat_minor": 0
}